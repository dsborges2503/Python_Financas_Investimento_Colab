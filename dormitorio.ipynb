{
  "nbformat": 4,
  "nbformat_minor": 0,
  "metadata": {
    "colab": {
      "name": "dormitorio.ipynb",
      "provenance": [],
      "include_colab_link": true
    },
    "kernelspec": {
      "name": "python3",
      "display_name": "Python 3"
    }
  },
  "cells": [
    {
      "cell_type": "markdown",
      "metadata": {
        "id": "view-in-github",
        "colab_type": "text"
      },
      "source": [
        "<a href=\"https://colab.research.google.com/github/dsborges2503/Python_Financas_Investimento_Colab/blob/main/dormitorio.ipynb\" target=\"_parent\"><img src=\"https://colab.research.google.com/assets/colab-badge.svg\" alt=\"Open In Colab\"/></a>"
      ]
    },
    {
      "cell_type": "code",
      "metadata": {
        "id": "9wVMEevbHXKv"
      },
      "source": [
        "import numpy as np\n",
        "\n",
        "\n",
        "matrizNome = [['David', 'Joffre', 'Aline'],\n",
        "              [0, 1, 999], \n",
        "              [[4, 1, 2, 3], [0, 2, 3, 4],[4, 3, 2, 1]]]\n",
        "\n",
        "matrizNome[0].append('Vanessa')\n",
        "matrizNome[1].append(4)\n",
        "matrizNome[2].append([2,1,3,0])\n",
        "\n",
        "matrizDormitorio = []\n",
        "\n",
        "i=0\n",
        "matrizLugares = ['A', 'B', 'C', 'D', 'E']\n",
        "Dormitorios = len(matrizLugares)\n",
        "for i in range(Dormitorios):\n",
        "  matrizDormitorio.append(0)\n",
        "\n",
        "matrizDormitorio[0] = 2 #'A'\n",
        "matrizDormitorio[1] = 0 #'B'\n",
        "matrizDormitorio[2] = 1 #'C'\n",
        "matrizDormitorio[3] = 0 #'D'\n",
        "matrizDormitorio[4] = 0 #'E'\n",
        "\n",
        "\n",
        "\n",
        "\n",
        "\n"
      ],
      "execution_count": null,
      "outputs": []
    },
    {
      "cell_type": "code",
      "metadata": {
        "id": "fh7XTYYaHin_"
      },
      "source": [
        "  for index in range(len(matrizNome[0])):\n",
        "    for destino in reversed(matrizNome[2][index]):\n",
        "      #print(destino)\n",
        "      if(matrizDormitorio[destino] > 0):\n",
        "        matrizDormitorio[destino] = matrizDormitorio[destino] - 1\n",
        "        \n",
        "        variavelAuxiliar = matrizNome[1][index]\n",
        "        if(matrizNome[1][index] != 999):\n",
        "          matrizDormitorio[variavelAuxiliar] = matrizDormitorio[variavelAuxiliar] + 1\n",
        "        matrizNome[1][index] = destino\n",
        "        index=0\n",
        "        destino=0\n",
        "        break"
      ],
      "execution_count": null,
      "outputs": []
    },
    {
      "cell_type": "code",
      "metadata": {
        "colab": {
          "base_uri": "https://localhost:8080/"
        },
        "id": "sbGeKyYXOnyI",
        "outputId": "d80aeae6-9181-4deb-f4fc-724dfd103f30"
      },
      "source": [
        "print(matrizNome)\n",
        "print(matrizDormitorio)\n"
      ],
      "execution_count": null,
      "outputs": [
        {
          "output_type": "stream",
          "text": [
            "[['David', 'Joffre', 'Aline', 'Vanessa'], [1, 4, 2, 0], [[4, 1, 2, 3], [0, 2, 3, 4], [4, 3, 2, 1], [2, 1, 3, 0]]]\n",
            "[2, 0, 0, 0, 0]\n"
          ],
          "name": "stdout"
        }
      ]
    },
    {
      "cell_type": "code",
      "metadata": {
        "colab": {
          "base_uri": "https://localhost:8080/",
          "height": 246
        },
        "id": "1x2qs1nPL8kX",
        "outputId": "df49473b-4773-4e66-f345-47888ce14730"
      },
      "source": [
        "matrizNome = [['David', 'Joffre', 'Aline'],\n",
        "              [0, 1, 999], \n",
        "              [[4, 1, 2, 3], [0, 2, 3, 4],[4, 3, 2, 1]]]\n",
        "\n",
        "matrizNome[0].append('Vanessa')\n",
        "matrizNome[1].append(4)\n",
        "matrizNome[2].append([2,1,3,0])\n",
        "for index in range(len(matrizNome[0])):\n",
        "    for destino in matrizNome[2][index]:\n",
        "      \n",
        "      if(matrizDormitorio[destino] > 0):\n",
        "        matrizDormitorio[destino] = matrizDormitorio[destino] - 1\n",
        "        \n",
        "        variavelAuxiliar = matrizNome[1][index]\n",
        "        if(matrizNome[1][index] != 999):\n",
        "          matrizDormitorio[variavelAuxiliar] = matrizDormitorio[variavelAuxiliar] + 1\n",
        "        matrizNome[1][index] = destino\n",
        "        index=0\n",
        "        destino=0\n",
        "        break\n",
        "matrizNome"
      ],
      "execution_count": null,
      "outputs": [
        {
          "output_type": "error",
          "ename": "TypeError",
          "evalue": "ignored",
          "traceback": [
            "\u001b[0;31m---------------------------------------------------------------------------\u001b[0m",
            "\u001b[0;31mTypeError\u001b[0m                                 Traceback (most recent call last)",
            "\u001b[0;32m<ipython-input-165-fc97a2d3b26b>\u001b[0m in \u001b[0;36m<module>\u001b[0;34m()\u001b[0m\n\u001b[1;32m      9\u001b[0m     \u001b[0;32mfor\u001b[0m \u001b[0mdestino\u001b[0m \u001b[0;32min\u001b[0m \u001b[0mrange\u001b[0m\u001b[0;34m(\u001b[0m\u001b[0mlen\u001b[0m\u001b[0;34m(\u001b[0m\u001b[0mmatrizNome\u001b[0m\u001b[0;34m[\u001b[0m\u001b[0;36m2\u001b[0m\u001b[0;34m]\u001b[0m\u001b[0;34m[\u001b[0m\u001b[0mindex\u001b[0m\u001b[0;34m]\u001b[0m\u001b[0;34m)\u001b[0m\u001b[0;34m,\u001b[0m\u001b[0;34m-\u001b[0m\u001b[0;36m1\u001b[0m\u001b[0;34m,\u001b[0m\u001b[0;34m-\u001b[0m\u001b[0;36m1\u001b[0m\u001b[0;34m)\u001b[0m\u001b[0;34m:\u001b[0m\u001b[0;34m\u001b[0m\u001b[0;34m\u001b[0m\u001b[0m\n\u001b[1;32m     10\u001b[0m       \u001b[0mdestino\u001b[0m \u001b[0;34m=\u001b[0m \u001b[0mmatrizNome\u001b[0m\u001b[0;34m[\u001b[0m\u001b[0;36m2\u001b[0m\u001b[0;34m]\u001b[0m\u001b[0;34m[\u001b[0m\u001b[0mindex\u001b[0m\u001b[0;34m]\u001b[0m\u001b[0;34m\u001b[0m\u001b[0;34m\u001b[0m\u001b[0m\n\u001b[0;32m---> 11\u001b[0;31m       \u001b[0;32mif\u001b[0m\u001b[0;34m(\u001b[0m\u001b[0mmatrizDormitorio\u001b[0m\u001b[0;34m[\u001b[0m\u001b[0mdestino\u001b[0m\u001b[0;34m]\u001b[0m \u001b[0;34m>\u001b[0m \u001b[0;36m0\u001b[0m\u001b[0;34m)\u001b[0m\u001b[0;34m:\u001b[0m\u001b[0;34m\u001b[0m\u001b[0;34m\u001b[0m\u001b[0m\n\u001b[0m\u001b[1;32m     12\u001b[0m         \u001b[0mmatrizDormitorio\u001b[0m\u001b[0;34m[\u001b[0m\u001b[0mdestino\u001b[0m\u001b[0;34m]\u001b[0m \u001b[0;34m=\u001b[0m \u001b[0mmatrizDormitorio\u001b[0m\u001b[0;34m[\u001b[0m\u001b[0mdestino\u001b[0m\u001b[0;34m]\u001b[0m \u001b[0;34m-\u001b[0m \u001b[0;36m1\u001b[0m\u001b[0;34m\u001b[0m\u001b[0;34m\u001b[0m\u001b[0m\n\u001b[1;32m     13\u001b[0m \u001b[0;34m\u001b[0m\u001b[0m\n",
            "\u001b[0;31mTypeError\u001b[0m: list indices must be integers or slices, not list"
          ]
        }
      ]
    }
  ]
}