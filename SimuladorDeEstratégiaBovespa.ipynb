{
  "nbformat": 4,
  "nbformat_minor": 0,
  "metadata": {
    "colab": {
      "name": "SimuladorDeEstratégiaBovespa.ipynb",
      "provenance": [],
      "collapsed_sections": []
    },
    "kernelspec": {
      "display_name": "Python 3",
      "name": "python3"
    }
  },
  "cells": [
    {
      "cell_type": "code",
      "metadata": {
        "colab": {
          "base_uri": "https://localhost:8080/"
        },
        "id": "KD8PZKQWrlcs",
        "outputId": "b41a0c74-de9c-4f64-8e6b-497ba1f94538"
      },
      "source": [
        "pip install Backtesting"
      ],
      "execution_count": 1,
      "outputs": [
        {
          "output_type": "stream",
          "text": [
            "Collecting Backtesting\n",
            "\u001b[?25l  Downloading https://files.pythonhosted.org/packages/a1/ab/8bf39a042287fe29229e63b8195821915262b4373e2b8fb0d4a595488718/Backtesting-0.2.4.tar.gz (172kB)\n",
            "\u001b[K     |████████████████████████████████| 174kB 4.3MB/s \n",
            "\u001b[?25hRequirement already satisfied: numpy in /usr/local/lib/python3.6/dist-packages (from Backtesting) (1.18.5)\n",
            "Requirement already satisfied: pandas!=0.25.0,>=0.25.0 in /usr/local/lib/python3.6/dist-packages (from Backtesting) (1.1.4)\n",
            "Requirement already satisfied: bokeh>=1.4.0 in /usr/local/lib/python3.6/dist-packages (from Backtesting) (2.1.1)\n",
            "Requirement already satisfied: pytz>=2017.2 in /usr/local/lib/python3.6/dist-packages (from pandas!=0.25.0,>=0.25.0->Backtesting) (2018.9)\n",
            "Requirement already satisfied: python-dateutil>=2.7.3 in /usr/local/lib/python3.6/dist-packages (from pandas!=0.25.0,>=0.25.0->Backtesting) (2.8.1)\n",
            "Requirement already satisfied: pillow>=4.0 in /usr/local/lib/python3.6/dist-packages (from bokeh>=1.4.0->Backtesting) (7.0.0)\n",
            "Requirement already satisfied: PyYAML>=3.10 in /usr/local/lib/python3.6/dist-packages (from bokeh>=1.4.0->Backtesting) (3.13)\n",
            "Requirement already satisfied: Jinja2>=2.7 in /usr/local/lib/python3.6/dist-packages (from bokeh>=1.4.0->Backtesting) (2.11.2)\n",
            "Requirement already satisfied: tornado>=5.1 in /usr/local/lib/python3.6/dist-packages (from bokeh>=1.4.0->Backtesting) (5.1.1)\n",
            "Requirement already satisfied: packaging>=16.8 in /usr/local/lib/python3.6/dist-packages (from bokeh>=1.4.0->Backtesting) (20.4)\n",
            "Requirement already satisfied: typing-extensions>=3.7.4 in /usr/local/lib/python3.6/dist-packages (from bokeh>=1.4.0->Backtesting) (3.7.4.3)\n",
            "Requirement already satisfied: six>=1.5 in /usr/local/lib/python3.6/dist-packages (from python-dateutil>=2.7.3->pandas!=0.25.0,>=0.25.0->Backtesting) (1.15.0)\n",
            "Requirement already satisfied: MarkupSafe>=0.23 in /usr/local/lib/python3.6/dist-packages (from Jinja2>=2.7->bokeh>=1.4.0->Backtesting) (1.1.1)\n",
            "Requirement already satisfied: pyparsing>=2.0.2 in /usr/local/lib/python3.6/dist-packages (from packaging>=16.8->bokeh>=1.4.0->Backtesting) (2.4.7)\n",
            "Building wheels for collected packages: Backtesting\n",
            "  Building wheel for Backtesting (setup.py) ... \u001b[?25l\u001b[?25hdone\n",
            "  Created wheel for Backtesting: filename=Backtesting-0.2.4-cp36-none-any.whl size=169967 sha256=11fed42a2f80bc8245f4f0a7b501d9a024cd854db694a9425117949c20dcebe3\n",
            "  Stored in directory: /root/.cache/pip/wheels/11/bf/97/adb7eb1803f631b1c0358c15d8b8e60e71b647e632f472f960\n",
            "Successfully built Backtesting\n",
            "Installing collected packages: Backtesting\n",
            "Successfully installed Backtesting-0.2.4\n"
          ],
          "name": "stdout"
        }
      ]
    },
    {
      "cell_type": "code",
      "metadata": {
        "colab": {
          "base_uri": "https://localhost:8080/"
        },
        "id": "NIOOULdxub_m",
        "outputId": "f0a7a50e-c9a3-4ac4-fc78-9ef0f70a392f"
      },
      "source": [
        "# Configurando Yahoo Finance\n",
        "!pip install yfinance --upgrade --no-cache-dir\n",
        "import yfinance as yf"
      ],
      "execution_count": 2,
      "outputs": [
        {
          "output_type": "stream",
          "text": [
            "Collecting yfinance\n",
            "  Downloading https://files.pythonhosted.org/packages/7a/e8/b9d7104d3a4bf39924799067592d9e59119fcfc900a425a12e80a3123ec8/yfinance-0.1.55.tar.gz\n",
            "Requirement already satisfied, skipping upgrade: pandas>=0.24 in /usr/local/lib/python3.6/dist-packages (from yfinance) (1.1.4)\n",
            "Requirement already satisfied, skipping upgrade: numpy>=1.15 in /usr/local/lib/python3.6/dist-packages (from yfinance) (1.18.5)\n",
            "Requirement already satisfied, skipping upgrade: requests>=2.20 in /usr/local/lib/python3.6/dist-packages (from yfinance) (2.23.0)\n",
            "Requirement already satisfied, skipping upgrade: multitasking>=0.0.7 in /usr/local/lib/python3.6/dist-packages (from yfinance) (0.0.9)\n",
            "Collecting lxml>=4.5.1\n",
            "\u001b[?25l  Downloading https://files.pythonhosted.org/packages/64/28/0b761b64ecbd63d272ed0e7a6ae6e4402fc37886b59181bfdf274424d693/lxml-4.6.1-cp36-cp36m-manylinux1_x86_64.whl (5.5MB)\n",
            "\u001b[K     |████████████████████████████████| 5.5MB 6.1MB/s \n",
            "\u001b[?25hRequirement already satisfied, skipping upgrade: pytz>=2017.2 in /usr/local/lib/python3.6/dist-packages (from pandas>=0.24->yfinance) (2018.9)\n",
            "Requirement already satisfied, skipping upgrade: python-dateutil>=2.7.3 in /usr/local/lib/python3.6/dist-packages (from pandas>=0.24->yfinance) (2.8.1)\n",
            "Requirement already satisfied, skipping upgrade: urllib3!=1.25.0,!=1.25.1,<1.26,>=1.21.1 in /usr/local/lib/python3.6/dist-packages (from requests>=2.20->yfinance) (1.24.3)\n",
            "Requirement already satisfied, skipping upgrade: chardet<4,>=3.0.2 in /usr/local/lib/python3.6/dist-packages (from requests>=2.20->yfinance) (3.0.4)\n",
            "Requirement already satisfied, skipping upgrade: idna<3,>=2.5 in /usr/local/lib/python3.6/dist-packages (from requests>=2.20->yfinance) (2.10)\n",
            "Requirement already satisfied, skipping upgrade: certifi>=2017.4.17 in /usr/local/lib/python3.6/dist-packages (from requests>=2.20->yfinance) (2020.6.20)\n",
            "Requirement already satisfied, skipping upgrade: six>=1.5 in /usr/local/lib/python3.6/dist-packages (from python-dateutil>=2.7.3->pandas>=0.24->yfinance) (1.15.0)\n",
            "Building wheels for collected packages: yfinance\n",
            "  Building wheel for yfinance (setup.py) ... \u001b[?25l\u001b[?25hdone\n",
            "  Created wheel for yfinance: filename=yfinance-0.1.55-py2.py3-none-any.whl size=22618 sha256=0503f02b28e98fde54b042877e4cd7bf2c1245a1dd6debd070a1a7d513a5d1d8\n",
            "  Stored in directory: /tmp/pip-ephem-wheel-cache-s4jb405d/wheels/04/98/cc/2702a4242d60bdc14f48b4557c427ded1fe92aedf257d4565c\n",
            "Successfully built yfinance\n",
            "Installing collected packages: lxml, yfinance\n",
            "  Found existing installation: lxml 4.2.6\n",
            "    Uninstalling lxml-4.2.6:\n",
            "      Successfully uninstalled lxml-4.2.6\n",
            "Successfully installed lxml-4.6.1 yfinance-0.1.55\n"
          ],
          "name": "stdout"
        }
      ]
    },
    {
      "cell_type": "code",
      "metadata": {
        "id": "Rajadl7pudXp"
      },
      "source": [
        "import numpy as np\n",
        "import pandas as pd\n",
        "import matplotlib.pyplot as plt\n",
        "import seaborn as sns\n",
        "sns.set()\n",
        "\n",
        "import random"
      ],
      "execution_count": 3,
      "outputs": []
    },
    {
      "cell_type": "code",
      "metadata": {
        "id": "1Y-czlI1ufuN"
      },
      "source": [
        "ticker = \"WEGE3.SA\"\n",
        "\n",
        "dados_yahoo = yf.download(tickers=ticker, period='1y')\n",
        "dados_yahoo"
      ],
      "execution_count": null,
      "outputs": []
    },
    {
      "cell_type": "code",
      "metadata": {
        "id": "taSy8FAXZyeo"
      },
      "source": [
        "dados_yahoo_index = dados_yahoo.index.tolist()\n",
        "dados_yahoo['Close'].values.tolist()"
      ],
      "execution_count": null,
      "outputs": []
    },
    {
      "cell_type": "code",
      "metadata": {
        "id": "TRfgcjpet_lm"
      },
      "source": [
        "import pandas as pd\n",
        "\n",
        "acoes = {'Open': dados_yahoo['Open'].values.tolist(),\n",
        "        'High': dados_yahoo['High'].values.tolist(),\n",
        "        'Low': dados_yahoo['Low'].values.tolist(),\n",
        "        'Close': dados_yahoo['Close'].values.tolist(),\n",
        "        'Volume': dados_yahoo['Volume'].values.tolist()\n",
        "        }\n",
        "\n",
        "df = pd.DataFrame(acoes, columns = ['Open', 'High', 'Low', 'Close', 'Volume'], index=dados_yahoo_index)\n",
        "\n",
        "df"
      ],
      "execution_count": null,
      "outputs": []
    },
    {
      "cell_type": "code",
      "metadata": {
        "id": "u23dChYtyL2h"
      },
      "source": [
        "import pandas as pd\n",
        "\n",
        "\n",
        "def SMA(values, n):\n",
        "    \"\"\"\n",
        "    Return simple moving average of `values`, at\n",
        "    each step taking into account `n` previous values.\n",
        "    \"\"\"\n",
        "    return pd.Series(values).rolling(n).mean()\n",
        "\n",
        "    "
      ],
      "execution_count": null,
      "outputs": []
    },
    {
      "cell_type": "code",
      "metadata": {
        "id": "MmErQqRhyPDO"
      },
      "source": [
        "from backtesting import Strategy\n",
        "from backtesting.lib import crossover\n",
        "\n",
        "\n",
        "class SmaCross(Strategy):\n",
        "    # Define the two MA lags as *class variables*\n",
        "    # for later optimization\n",
        "    n1 = 8\n",
        "    n2 = 34\n",
        "    \n",
        "    def init(self):\n",
        "        # Precompute the two moving averages\n",
        "        self.sma1 = self.I(SMA, self.data.Close, self.n1)\n",
        "        self.sma2 = self.I(SMA, self.data.Close, self.n2)\n",
        "    \n",
        "    def next(self):\n",
        "        # If sma1 crosses above sma2, close any existing\n",
        "        # short trades, and buy the asset\n",
        "        if crossover(self.sma1, self.sma2):\n",
        "            self.position.close()\n",
        "            self.buy()\n",
        "\n",
        "        # Else, if sma1 crosses below sma2, close any existing\n",
        "        # long trades, and sell the asset\n",
        "        elif crossover(self.sma2, self.sma1):\n",
        "            self.position.close()\n",
        "            self.sell()"
      ],
      "execution_count": null,
      "outputs": []
    },
    {
      "cell_type": "code",
      "metadata": {
        "colab": {
          "base_uri": "https://localhost:8080/"
        },
        "id": "5n02-ccGySF6",
        "outputId": "4d449321-538f-4415-b419-e81ae4e8128a"
      },
      "source": [
        "%%script echo\n",
        "\n",
        "    def next(self):\n",
        "        if (self.sma1[-2] < self.sma2[-2] and\n",
        "                self.sma1[-1] > self.sma2[-1]):\n",
        "            self.position.close()\n",
        "            self.buy()\n",
        "\n",
        "        elif (self.sma1[-2] > self.sma2[-2] and    # Ugh!\n",
        "              self.sma1[-1] < self.sma2[-1]):\n",
        "            self.position.close()\n",
        "            self.sell()"
      ],
      "execution_count": null,
      "outputs": [
        {
          "output_type": "stream",
          "text": [
            "\n"
          ],
          "name": "stdout"
        }
      ]
    },
    {
      "cell_type": "code",
      "metadata": {
        "id": "jZQDcoSEyU3P"
      },
      "source": [
        "from backtesting import Backtest\n",
        "df=df.dropna()\n",
        "bt = Backtest(df, SmaCross, cash=10000, commission=0.002)\n",
        "stats = bt.run()\n",
        "stats"
      ],
      "execution_count": null,
      "outputs": []
    },
    {
      "cell_type": "code",
      "metadata": {
        "id": "QTXDB63fymyQ"
      },
      "source": [
        "bt.plot()"
      ],
      "execution_count": null,
      "outputs": []
    },
    {
      "cell_type": "code",
      "metadata": {
        "id": "W9M-M6OjzAfj"
      },
      "source": [
        "%%time\n",
        "\n",
        "stats = bt.optimize(n1=range(5, 150, 5),\n",
        "                    n2=range(5, 200, 5),\n",
        "                    maximize='Equity Final [$]',\n",
        "                    constraint=lambda param: param.n1 < param.n2)\n",
        "stats"
      ],
      "execution_count": null,
      "outputs": []
    },
    {
      "cell_type": "code",
      "metadata": {
        "id": "SrgmnvdUzcsw"
      },
      "source": [
        "stats"
      ],
      "execution_count": null,
      "outputs": []
    },
    {
      "cell_type": "code",
      "metadata": {
        "id": "YoLeSeaJzDqa"
      },
      "source": [
        "stats._strategy"
      ],
      "execution_count": null,
      "outputs": []
    },
    {
      "cell_type": "code",
      "metadata": {
        "id": "b08nZhzKzFfB"
      },
      "source": [
        "bt.plot(plot_volume=False, plot_pl=False)"
      ],
      "execution_count": null,
      "outputs": []
    },
    {
      "cell_type": "code",
      "metadata": {
        "id": "E_KgdrxtzMhl"
      },
      "source": [
        ".stats.tail()"
      ],
      "execution_count": null,
      "outputs": []
    },
    {
      "cell_type": "code",
      "metadata": {
        "id": "vDs7nPMTzN4P"
      },
      "source": [
        "stats['_equity_curve']"
      ],
      "execution_count": null,
      "outputs": []
    },
    {
      "cell_type": "code",
      "metadata": {
        "id": "Q15rMvS1zPwh"
      },
      "source": [
        "stats['_trades'] "
      ],
      "execution_count": null,
      "outputs": []
    }
  ]
}