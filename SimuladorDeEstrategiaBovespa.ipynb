{
  "nbformat": 4,
  "nbformat_minor": 0,
  "metadata": {
    "colab": {
      "name": "SimuladorDeEstrategiaBovespa.ipynb",
      "provenance": [],
      "collapsed_sections": [],
      "authorship_tag": "ABX9TyNvHJB8gTvPcInucqBOm94c",
      "include_colab_link": true
    },
    "kernelspec": {
      "display_name": "Python 3",
      "name": "python3"
    }
  },
  "cells": [
    {
      "cell_type": "markdown",
      "metadata": {
        "id": "view-in-github",
        "colab_type": "text"
      },
      "source": [
        "<a href=\"https://colab.research.google.com/github/dsborges2503/Python_Financas_Investimento_Colab/blob/main/SimuladorDeEstrategiaBovespa.ipynb\" target=\"_parent\"><img src=\"https://colab.research.google.com/assets/colab-badge.svg\" alt=\"Open In Colab\"/></a>"
      ]
    },
    {
      "cell_type": "code",
      "metadata": {
        "id": "KD8PZKQWrlcs"
      },
      "source": [
        "pip install Backtesting"
      ],
      "execution_count": null,
      "outputs": []
    },
    {
      "cell_type": "code",
      "metadata": {
        "id": "NIOOULdxub_m"
      },
      "source": [
        "# Configurando Yahoo Finance\n",
        "!pip install yfinance --upgrade --no-cache-dir\n",
        "import yfinance as yf"
      ],
      "execution_count": null,
      "outputs": []
    },
    {
      "cell_type": "code",
      "metadata": {
        "id": "Rajadl7pudXp"
      },
      "source": [
        "import numpy as np\n",
        "import pandas as pd\n",
        "import matplotlib.pyplot as plt\n",
        "import seaborn as sns\n",
        "sns.set()\n",
        "\n",
        "import random"
      ],
      "execution_count": 3,
      "outputs": []
    },
    {
      "cell_type": "code",
      "metadata": {
        "id": "1Y-czlI1ufuN"
      },
      "source": [
        "ticker = \"WEGE3.SA\"\n",
        "\n",
        "dados_yahoo = yf.download(tickers=ticker, period='1y')\n",
        "dados_yahoo"
      ],
      "execution_count": null,
      "outputs": []
    },
    {
      "cell_type": "code",
      "metadata": {
        "id": "taSy8FAXZyeo"
      },
      "source": [
        "dados_yahoo_index = dados_yahoo.index.tolist()\n",
        "dados_yahoo['Close'].values.tolist()"
      ],
      "execution_count": null,
      "outputs": []
    },
    {
      "cell_type": "code",
      "metadata": {
        "id": "TRfgcjpet_lm"
      },
      "source": [
        "import pandas as pd\n",
        "\n",
        "acoes = {'Open': dados_yahoo['Open'].values.tolist(),\n",
        "        'High': dados_yahoo['High'].values.tolist(),\n",
        "        'Low': dados_yahoo['Low'].values.tolist(),\n",
        "        'Close': dados_yahoo['Close'].values.tolist(),\n",
        "        'Volume': dados_yahoo['Volume'].values.tolist()\n",
        "        }\n",
        "\n",
        "df = pd.DataFrame(acoes, columns = ['Open', 'High', 'Low', 'Close', 'Volume'], index=dados_yahoo_index)\n",
        "\n",
        "df"
      ],
      "execution_count": null,
      "outputs": []
    },
    {
      "cell_type": "code",
      "metadata": {
        "id": "u23dChYtyL2h"
      },
      "source": [
        "import pandas as pd\n",
        "\n",
        "\n",
        "def SMA(values, n):\n",
        "    return pd.Series(values).rolling(n).mean()\n",
        "\n",
        "    "
      ],
      "execution_count": null,
      "outputs": []
    },
    {
      "cell_type": "code",
      "metadata": {
        "id": "MmErQqRhyPDO"
      },
      "source": [
        "from backtesting import Strategy\n",
        "from backtesting.lib import crossover\n",
        "\n",
        "\n",
        "class SmaCross(Strategy):\n",
        "    # Define the two MA lags as *class variables*\n",
        "    # for later optimization\n",
        "    n1 = 8\n",
        "    n2 = 34\n",
        "    \n",
        "    def init(self):\n",
        "        # Precompute the two moving averages\n",
        "        self.sma1 = self.I(SMA, self.data.Close, self.n1)\n",
        "        self.sma2 = self.I(SMA, self.data.Close, self.n2)\n",
        "    \n",
        "    def next(self):\n",
        "        # If sma1 crosses above sma2, close any existing\n",
        "        # short trades, and buy the asset\n",
        "        if crossover(self.sma1, self.sma2):\n",
        "            self.position.close()\n",
        "            self.buy()\n",
        "\n",
        "        # Else, if sma1 crosses below sma2, close any existing\n",
        "        # long trades, and sell the asset\n",
        "        elif crossover(self.sma2, self.sma1):\n",
        "            self.position.close()\n",
        "            self.sell()"
      ],
      "execution_count": null,
      "outputs": []
    },
    {
      "cell_type": "code",
      "metadata": {
        "colab": {
          "base_uri": "https://localhost:8080/"
        },
        "id": "5n02-ccGySF6",
        "outputId": "4d449321-538f-4415-b419-e81ae4e8128a"
      },
      "source": [
        "%%script echo\n",
        "\n",
        "    def next(self):\n",
        "        if (self.sma1[-2] < self.sma2[-2] and\n",
        "                self.sma1[-1] > self.sma2[-1]):\n",
        "            self.position.close()\n",
        "            self.buy()\n",
        "\n",
        "        elif (self.sma1[-2] > self.sma2[-2] and    # Ugh!\n",
        "              self.sma1[-1] < self.sma2[-1]):\n",
        "            self.position.close()\n",
        "            self.sell()"
      ],
      "execution_count": null,
      "outputs": [
        {
          "output_type": "stream",
          "text": [
            "\n"
          ],
          "name": "stdout"
        }
      ]
    },
    {
      "cell_type": "code",
      "metadata": {
        "id": "jZQDcoSEyU3P"
      },
      "source": [
        "from backtesting import Backtest\n",
        "df=df.dropna()\n",
        "bt = Backtest(df, SmaCross, cash=10000, commission=0.002)\n",
        "stats = bt.run()\n",
        "stats"
      ],
      "execution_count": null,
      "outputs": []
    },
    {
      "cell_type": "code",
      "metadata": {
        "id": "QTXDB63fymyQ"
      },
      "source": [
        "bt.plot()"
      ],
      "execution_count": null,
      "outputs": []
    },
    {
      "cell_type": "code",
      "metadata": {
        "id": "W9M-M6OjzAfj"
      },
      "source": [
        "%%time\n",
        "\n",
        "stats = bt.optimize(n1=range(5, 150, 5),\n",
        "                    n2=range(5, 200, 5),\n",
        "                    maximize='Equity Final [$]',\n",
        "                    constraint=lambda param: param.n1 < param.n2)\n",
        "stats"
      ],
      "execution_count": null,
      "outputs": []
    },
    {
      "cell_type": "code",
      "metadata": {
        "id": "SrgmnvdUzcsw"
      },
      "source": [
        "stats"
      ],
      "execution_count": null,
      "outputs": []
    },
    {
      "cell_type": "code",
      "metadata": {
        "id": "YoLeSeaJzDqa"
      },
      "source": [
        "stats._strategy"
      ],
      "execution_count": null,
      "outputs": []
    },
    {
      "cell_type": "code",
      "metadata": {
        "id": "b08nZhzKzFfB"
      },
      "source": [
        "bt.plot(plot_volume=False, plot_pl=False)"
      ],
      "execution_count": null,
      "outputs": []
    },
    {
      "cell_type": "code",
      "metadata": {
        "colab": {
          "base_uri": "https://localhost:8080/",
          "height": 129
        },
        "id": "E_KgdrxtzMhl",
        "outputId": "3791a9d8-1b65-4ee3-b53a-726f754e0c61"
      },
      "source": [
        "stats.tail()"
      ],
      "execution_count": 4,
      "outputs": [
        {
          "output_type": "error",
          "ename": "SyntaxError",
          "evalue": "ignored",
          "traceback": [
            "\u001b[0;36m  File \u001b[0;32m\"<ipython-input-4-63a9ca73b241>\"\u001b[0;36m, line \u001b[0;32m1\u001b[0m\n\u001b[0;31m    .stats.tail()\u001b[0m\n\u001b[0m    ^\u001b[0m\n\u001b[0;31mSyntaxError\u001b[0m\u001b[0;31m:\u001b[0m invalid syntax\n"
          ]
        }
      ]
    },
    {
      "cell_type": "code",
      "metadata": {
        "id": "vDs7nPMTzN4P"
      },
      "source": [
        "stats['_equity_curve']"
      ],
      "execution_count": null,
      "outputs": []
    },
    {
      "cell_type": "code",
      "metadata": {
        "id": "Q15rMvS1zPwh"
      },
      "source": [
        "stats['_trades'] "
      ],
      "execution_count": null,
      "outputs": []
    }
  ]
}